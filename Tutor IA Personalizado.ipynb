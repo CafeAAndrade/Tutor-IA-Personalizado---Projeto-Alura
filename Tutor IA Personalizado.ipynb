{
  "nbformat": 4,
  "nbformat_minor": 0,
  "metadata": {
    "colab": {
      "provenance": [],
      "authorship_tag": "ABX9TyPyaAycRVkviDY1lYTUewNu",
      "include_colab_link": true
    },
    "kernelspec": {
      "name": "python3",
      "display_name": "Python 3"
    },
    "language_info": {
      "name": "python"
    }
  },
  "cells": [
    {
      "cell_type": "markdown",
      "metadata": {
        "id": "view-in-github",
        "colab_type": "text"
      },
      "source": [
        "<a href=\"https://colab.research.google.com/github/CafeAAndrade/Tutor-IA-Personalizado---Projeto-Alura/blob/main/Tutor%20IA%20Personalizado.ipynb\" target=\"_parent\"><img src=\"https://colab.research.google.com/assets/colab-badge.svg\" alt=\"Open In Colab\"/></a>"
      ]
    },
    {
      "cell_type": "code",
      "execution_count": 2,
      "metadata": {
        "id": "e76vgE2dBw4U"
      },
      "outputs": [],
      "source": [
        "%pip -q install google-genai\n",
        "%pip -q install google-adk"
      ]
    },
    {
      "cell_type": "code",
      "source": [
        "# Configura a API Key do Google Gemini\n",
        "\n",
        "import os\n",
        "from google.colab import userdata\n",
        "\n",
        "os.environ[\"GOOGLE_API_KEY\"] = userdata.get('GOOGLE_API_KEY')"
      ],
      "metadata": {
        "id": "StSZ55JFB9Wo"
      },
      "execution_count": 3,
      "outputs": []
    },
    {
      "cell_type": "code",
      "source": [
        "# Configura o cliente da SDK do Gemini\n",
        "\n",
        "from google import genai\n",
        "\n",
        "client = genai.Client()\n",
        "\n",
        "MODEL_ID = \"gemini-2.0-flash\""
      ],
      "metadata": {
        "id": "K2p7RNYKFQ9D"
      },
      "execution_count": 4,
      "outputs": []
    },
    {
      "cell_type": "code",
      "source": [
        "from google.adk.agents import Agent\n",
        "from google.adk.runners import Runner\n",
        "from google.adk.sessions import InMemorySessionService\n",
        "from google.adk.tools import google_search\n",
        "from google.genai import types  # Para criar conteúdos (Content e Part)\n",
        "from datetime import date\n",
        "import textwrap # Para formatar melhor a saída de texto\n",
        "from IPython.display import display, Markdown, Image, HTML # Para exibir texto formatado no Colab\n",
        "import requests # Para fazer requisições HTTP\n",
        "import warnings\n",
        "\n",
        "\n",
        "warnings.filterwarnings(\"ignore\")"
      ],
      "metadata": {
        "id": "cNylQRd2Ftl_"
      },
      "execution_count": 6,
      "outputs": []
    },
    {
      "cell_type": "code",
      "source": [
        "# Função auxiliar que envia uma mensagem para um agente via Runner e retorna a resposta final\n",
        "def call_agent(agent: Agent, message_text: str):\n",
        "    # Cria um serviço de sessão em memória\n",
        "    session_service = InMemorySessionService()\n",
        "    # Cria uma nova sessão (você pode personalizar os IDs conforme necessário)\n",
        "    session = session_service.create_session(app_name=agent.name, user_id=\"user1\", session_id=\"session1\")\n",
        "    # Cria um Runner para o agente\n",
        "    runner = Runner(agent=agent, app_name=agent.name, session_service=session_service)\n",
        "    # Cria o conteúdo da mensagem de entrada\n",
        "    content = types.Content(role=\"user\", parts=[types.Part(text=message_text)])\n",
        "\n",
        "    final_response = \"\"\n",
        "    # Itera assincronamente pelos eventos retornados durante a execução do agente\n",
        "    for event in runner.run(user_id=\"user1\", session_id=\"session1\", new_message=content):\n",
        "        if event.is_final_response():\n",
        "          for part in event.content.parts:\n",
        "            if part.text is not None:\n",
        "              final_response += part.text\n",
        "              final_response += \"\\n\"\n",
        "\n",
        "    return final_response"
      ],
      "metadata": {
        "id": "FaEXR_E2F5Ou"
      },
      "execution_count": 10,
      "outputs": []
    },
    {
      "cell_type": "code",
      "source": [
        "# Função auxiliar para exibir texto formatado em Markdown no Colab\n",
        "def to_markdown(text):\n",
        "  text = text.replace('•', '  *')\n",
        "  return Markdown(textwrap.indent(text, '> ', predicate=lambda _: True))"
      ],
      "metadata": {
        "id": "tfNFHMnHGAKL"
      },
      "execution_count": 11,
      "outputs": []
    },
    {
      "cell_type": "code",
      "source": [
        "OPEN_QUESTIONS = [\n",
        "    {\n",
        "        \"id\": \"q1\",\n",
        "        \"text\": \"1. Quando você precisa aprender algo completamente novo e um pouco complexo, como você geralmente prefere começar? Descreva os primeiros passos que você daria.\"\n",
        "    },\n",
        "    {\n",
        "        \"id\": \"q2\",\n",
        "        \"text\": \"2. Pense em uma aula ou palestra que você achou particularmente eficaz. O que o instrutor fez ou quais materiais foram usados que te ajudaram a aprender?\"\n",
        "    },\n",
        "    {\n",
        "        \"id\": \"q3\",\n",
        "        \"text\": \"3. Se você tivesse que explicar um conceito difícil para um amigo, como você faria isso? Quais recursos ou métodos você usaria?\"\n",
        "    },\n",
        "    {\n",
        "        \"id\": \"q4\",\n",
        "        \"text\": \"4. Ao se preparar para uma prova ou apresentação importante, quais são suas técnicas de estudo ou preparação preferidas? Descreva como você as utiliza.\"\n",
        "    },\n",
        "    {\n",
        "        \"id\": \"q5\",\n",
        "        \"text\": \"5. Quando você está tentando entender instruções para montar algo (como um móvel) ou seguir uma receita, que tipo de informação ou formato te ajuda mais?\"\n",
        "    },\n",
        "    {\n",
        "        \"id\": \"q6\",\n",
        "        \"text\": \"6. Descreva um hobby ou atividade de lazer que você gosta e explique como você aprendeu ou como você se aprimora nele.\"\n",
        "    },\n",
        "    {\n",
        "        \"id\": \"q7\",\n",
        "        \"text\": \"7. Se você estivesse pesquisando um novo gadget ou produto antes de comprar, que tipo de informação você buscaria e onde?\"\n",
        "    },\n",
        "    {\n",
        "        \"id\": \"q8\",\n",
        "        \"text\": \"8. O que mais te distrai quando você está tentando se concentrar para aprender algo novo?\"\n",
        "    },\n",
        "    {\n",
        "        \"id\": \"q9\",\n",
        "        \"text\": \"9. Para memorizar informações, como números de telefone, datas ou listas, quais estratégias você acha que funcionam melhor para você?\"\n",
        "    },\n",
        "    {\n",
        "        \"id\": \"q10\",\n",
        "        \"text\": \"10. Se você pudesse projetar a 'aula ideal' para você, como ela seria? Descreva o ambiente, os métodos de ensino e os materiais.\"\n",
        "    }\n",
        "]"
      ],
      "metadata": {
        "id": "8bOD5DkGCIue"
      },
      "execution_count": 20,
      "outputs": []
    },
    {
      "cell_type": "code",
      "source": [
        "def run_interview_open(questions):\n",
        "    \"\"\"\n",
        "    Conduz a entrevista com o usuário, fazendo perguntas abertas e coletando respostas.\n",
        "    Retorna um dicionário com as respostas do usuário.\n",
        "    \"\"\"\n",
        "\n",
        "    print(\"Agora vou fazer algumas perguntas abertas. Por favor, descreva suas preferências e experiências com o máximo de detalhes que puder.\\n\")\n",
        "\n",
        "    answers = {}\n",
        "    for q_data in questions:\n",
        "        print(f\"{q_data['text']}\")\n",
        "        answer = input(\"Sua resposta: \").strip()\n",
        "        answers[q_data['id']] = answer\n",
        "        print(\"-\" * 30)\n",
        "\n",
        "    return answers"
      ],
      "metadata": {
        "id": "_EBONw2uCcj_"
      },
      "execution_count": 30,
      "outputs": []
    },
    {
      "cell_type": "code",
      "source": [
        "def generate_prompt_for_gemini(user_answers, questions_list):\n",
        "    \"\"\"\n",
        "    Gera o prompt que será enviado ao modelo Gemini.\n",
        "    \"\"\"\n",
        "    prompt = \"\\nRespostas do Usuário:\\n\"\n",
        "    for q_data in questions_list:\n",
        "        q_id = q_data['id']\n",
        "        q_text = q_data['text']\n",
        "        if q_id in user_answers:\n",
        "            prompt += f\"\\nPergunta {q_data['id'][-1]}: {q_text}\\nResposta do Usuário: {user_answers[q_id]}\\n\" # Usando apenas o número da pergunta\n",
        "\n",
        "    prompt += \"\\nPor favor, gere o relatório sucinto e objetivo, bem estruturado em Markdown, como se estivesse falando diretamente com o usuário.\"\n",
        "    return prompt"
      ],
      "metadata": {
        "id": "5vX8ZTWDCuRp"
      },
      "execution_count": 31,
      "outputs": []
    },
    {
      "cell_type": "code",
      "source": [
        "##########################################\n",
        "# --- Agente 1: Avaliador --- #\n",
        "##########################################\n",
        "def agente_avaliador(prompt):\n",
        "\n",
        "  avaliador=Agent(\n",
        "      name=\"agente_avaliador\",\n",
        "      model= MODEL_ID,\n",
        "      description=\"Agente que avalia os resultados das perguntas de perfil VARK\",\n",
        "      tools=[google_search],\n",
        "      instruction=\"\"\"\n",
        "        Você é um especialista em estilos de aprendizagem, com foco no modelo VARK (Visual, Auditivo, Leitura/Escrita, Cinestésico).\\n\n",
        "        Analise as seguintes respostas fornecidas por um usuário a um questionário sobre suas preferências de aprendizagem.\\n\n",
        "        Para cada resposta, identifique indicadores dos quatro estilos VARK.\\n\n",
        "        Ao final, determine o(s) estilo(s) de aprendizagem predominante(s) do usuário.\\n\n",
        "        Gere um relatório detalhado e personalizado para o usuário, em Português do Brasil, que inclua:\\n\n",
        "        1. Uma breve e amigável introdução sobre o que são estilos de aprendizagem VARK e a importância de conhecê-los.\\n\n",
        "        2. O(s) estilo(s) de aprendizagem que parecem ser predominantes para o usuário, com uma explicação clara do porquê essa conclusão foi tirada,\n",
        "        citando exemplos das respostas do usuário (sem revelar as respostas inteiras, mas referenciando as ideias principais).\\n\n",
        "        3. Para CADA UM dos estilos VARK predominantes do usuário (Visual, Auditivo, Leitura/Escrita, Cinestésico), forneça:\\n\n",
        "            a. Uma descrição detalhada do que caracteriza um aprendiz com esse estilo.\\n\n",
        "            b. Recomendações específicas e práticas de estudo, técnicas de aprendizado e tipos de conteúdo que são mais adequados para maximizar o aprendizado de alguém com esse estilo.\\n\n",
        "        4. Se mais de um estilo parecer predominante, explique como eles podem se complementar e como o usuário pode usar essa combinação a seu favor.\\n\n",
        "        5. Uma conclusão encorajadora, lembrando que os estilos são preferências e que a flexibilidade é importante.\\n\\n\n",
        "      \"\"\"\n",
        "  )\n",
        "\n",
        "  entrada_do_agente_avaliador = f\" {prompt} \"\n",
        "\n",
        "  perfil = call_agent(avaliador, entrada_do_agente_avaliador)\n",
        "\n",
        "  return perfil"
      ],
      "metadata": {
        "id": "mDJUEQuODF-x"
      },
      "execution_count": 26,
      "outputs": []
    },
    {
      "cell_type": "code",
      "source": [
        "##########################################\n",
        "# --- Agente 2: Pesquisador --- #\n",
        "##########################################\n",
        "def agente_pesquisador(topico):\n",
        "\n",
        "  pesquisador=Agent(\n",
        "      name=\"agente_pesquisador\",\n",
        "      model= MODEL_ID,\n",
        "      description=\"Agente que pesquisa profundamente o topico escolhido\",\n",
        "      tools=[google_search],\n",
        "      instruction=\"\"\"\n",
        "      Você é um pesquisador experiente. Entende de muitos assuntos e tem uma paixão quase obsessiva por encontrar os motivos e explicações para as coisas.\n",
        "      Você é incansável em buscar mais informações usando a ferramenta google search (google_search) para buscar diversas fontes de informação.\n",
        "      Para você uma pesquisa só está completa após verificar e cruzar múltiplas fontes de informação.\n",
        "      Seus relatórios são profundos e detalhados, normalmente superando 5000 palavras.\n",
        "      Você preza muito a qualidade das informações, sempre se baseando apenas nos fatos.\n",
        "\n",
        "      \"\"\"\n",
        "  )\n",
        "\n",
        "  entrada_do_agente_pesquisador = f\"Pesquise extensivamente e prepare um relatório maravilhoso, detalhado, objetivo e fact based para: {topico} \"\n",
        "\n",
        "  pesquisa = call_agent(pesquisador, entrada_do_agente_pesquisador)\n",
        "\n",
        "  return pesquisa"
      ],
      "metadata": {
        "id": "vbnoRVzrTNIx"
      },
      "execution_count": 34,
      "outputs": []
    },
    {
      "cell_type": "code",
      "source": [
        "##########################################\n",
        "# --- Agente 3: Professor --- #\n",
        "##########################################\n",
        "def agente_professor(resultado_pesquisa, nome, idade, profissao):\n",
        "\n",
        "  professor=Agent(\n",
        "      name=\"agente_professor\",\n",
        "      model= MODEL_ID,\n",
        "      description=\"Agente que adequa a explicação do tópico ao perfil etário, profissional e de aprendizado\",\n",
        "      tools=[google_search],\n",
        "      instruction=\"\"\"\n",
        "      Você é um professor inspirador sem igual. É apaixonado por ensinar e busca transmitir sua paixão pelos assuntos para os seus alunos.\n",
        "      Você trabalha junto com o pesquisador, que te entrega um relatorio completo, mas muito seco, que precisa obrigatoriamente ser ajustado\n",
        "      para refletir o seu estilo, objetivo, apaixonado por ensinar e cuidadoso para ajudar o aluno a aprender melhor.\n",
        "      Você sempre adapta o seu conteúdo e muitas vezes até complementa o material do pesquisador usando a ferramenta google search (google_search)\n",
        "      para trazer exemplos e paralelos que possam ajudar nas explicações.\n",
        "      Você faz todo o possível para que seus alunos tenham sucesso no aprendizado\n",
        "\n",
        "      \"\"\"\n",
        "  )\n",
        "\n",
        "  entrada_do_agente_professor = f\"Seu aluno se chama {nome}, tem {idade} anos e tem a profissão de {profissao} \\n Prepare uma aula memorável para ele sobre: {topico} \"\n",
        "\n",
        "  aula = call_agent(professor, entrada_do_agente_professor)\n",
        "\n",
        "  return aula"
      ],
      "metadata": {
        "id": "s_ZqLVteWQwz"
      },
      "execution_count": 36,
      "outputs": []
    },
    {
      "cell_type": "code",
      "source": [
        "print(\"Olá! Sou seu agente de IA para te ajudar a aprender alavancando seu estilo natural de aprendizagem. \\n Primeiro, me ajude com as informações abaixo:\\n\")\n",
        "\n",
        "nome = input(\"Qual o seu nome\")\n",
        "idade = input(\"Qual a sua idade?\")\n",
        "profissao = input(\"Qual a sua profissão?\")\n",
        "topico = input(\"Qual o topico que você quer estudar?\")\n",
        "\n",
        "    # 1. Coletar respostas abertas\n",
        "user_answers_collected = run_interview_open(OPEN_QUESTIONS)\n",
        "\n",
        "    # 2. Gerar o prompt para o Gemini\n",
        "gemini_prompt = generate_prompt_for_gemini(user_answers_collected, OPEN_QUESTIONS)\n",
        "\n",
        "perfil_usuario = agente_avaliador(gemini_prompt)\n",
        "print(\"\\n Resultados do Agente Buscador:\\n\")\n",
        "display(to_markdown(perfil_usuario))\n",
        "print(\"xxxxxxxxxxxxxxxxxxxxxxxxxxxxxxxxxxxxxxxxxxxxxxxxxxxxxxxxxxxxxxxxxxxx\\n\")\n",
        "\n",
        "print(f\"Pesquisando sobre: {topico} ...\")\n",
        "\n",
        "pesquisa_concluida = agente_pesquisador(topico)\n",
        "#print(\"\\n Resultados do Agente Buscador:\\n\")\n",
        "#display(to_markdown(pesquisa_concluida))\n",
        "#print(\"xxxxxxxxxxxxxxxxxxxxxxxxxxxxxxxxxxxxxxxxxxxxxxxxxxxxxxxxxxxxxxxxxxxx\\n\")\n",
        "\n",
        "print(f\"Preparando sua aula sobre: {topico} ...\")\n",
        "\n",
        "aula_concluida = agente_professor(pesquisa_concluida, nome, idade, profissao)\n",
        "print(\"\\n Resultados do Agente Professor:\\n\")\n",
        "display(to_markdown(aula_concluida))\n",
        "print(\"xxxxxxxxxxxxxxxxxxxxxxxxxxxxxxxxxxxxxxxxxxxxxxxxxxxxxxxxxxxxxxxxxxxx\\n\")\n",
        "\n",
        "print(\"\\nEspero que este relatório detalhado ajude você a otimizar seus estudos e aprendizado! 😊\")"
      ],
      "metadata": {
        "colab": {
          "base_uri": "https://localhost:8080/",
          "height": 1000
        },
        "id": "hyyFbJJWDcLq",
        "outputId": "4a29c549-c90f-49af-a37b-d46563542286"
      },
      "execution_count": 38,
      "outputs": [
        {
          "output_type": "stream",
          "name": "stdout",
          "text": [
            "Olá! Sou seu agente de IA para te ajudar a aprender alavancando seu estilo natural de aprendizagem. \n",
            " Primeiro, me ajude com as informações abaixo:\n",
            "\n",
            "Qual o seu nomeCafe\n",
            "Qual a sua idade?10\n",
            "Qual a sua profissão?estudante\n",
            "Qual o topico que você quer estudar?ia\n",
            "Agora vou fazer algumas perguntas abertas. Por favor, descreva suas preferências e experiências com o máximo de detalhes que puder.\n",
            "\n",
            "1. Quando você precisa aprender algo completamente novo e um pouco complexo, como você geralmente prefere começar? Descreva os primeiros passos que você daria.\n",
            "Sua resposta: leitura\n",
            "------------------------------\n",
            "\n",
            " Resultados do Agente Buscador:\n",
            "\n"
          ]
        },
        {
          "output_type": "display_data",
          "data": {
            "text/plain": [
              "<IPython.core.display.Markdown object>"
            ],
            "text/markdown": "> Olá! Vamos descobrir juntos como você aprende melhor?\n> \n> Identificar seu estilo de aprendizagem VARK (Visual, Auditivo, Leitura/Escrita, Cinestésico) pode te ajudar a otimizar seus estudos e a absorver informações de forma mais eficaz. Não existe um estilo \"certo\" ou \"errado\", e a maioria das pessoas se beneficia de uma combinação deles. O importante é entender suas preferências para aproveitar ao máximo seu potencial!\n> \n> **Seu(s) Estilo(s) Predominante(s)**\n> \n> Baseado na sua resposta à primeira pergunta, a leitura parece ser um estilo de aprendizagem importante para você. Ao indicar que sua primeira abordagem para aprender algo novo é a leitura, você demonstra uma preferência por informações apresentadas em formato textual.\n> \n> **Estilo de Aprendizagem Leitura/Escrita**\n> \n> *   **O que te define:** Pessoas com preferência por Leitura/Escrita aprendem melhor através de palavras escritas. Livros, artigos, textos, anotações e listas são seus melhores amigos. Você provavelmente gosta de fazer anotações detalhadas e se sente mais confortável quando as informações são apresentadas de forma organizada e textual.\n> *   **Como turbinar seus estudos:**\n>     *   **Anotações:** Transforme aulas e palestras em anotações bem estruturadas. Use diferentes cores e canetas para destacar pontos importantes.\n>     *   **Resumos:** Faça resumos dos seus materiais de estudo. Escrever ajuda a fixar o conteúdo.\n>     *   **Listas:** Crie listas de tarefas, conceitos-chave e informações relevantes. A organização visual te ajudará a memorizar.\n>     *   **Materiais de leitura:** Priorize livros, artigos e apostilas bem escritos e detalhados. Evite materiais excessivamente visuais ou informais.\n>     *   **Reescreva:** Reescreva suas anotações e resumos com suas próprias palavras. Isso reforça o aprendizado e te ajuda a entender o conteúdo em profundidade.\n> \n> **Conclusão**\n> \n> Lembre-se que o VARK é um guia, não uma sentença! Explore diferentes estilos e descubra o que funciona melhor para você em cada situação. A flexibilidade é a chave para se tornar um aprendiz eficaz e completo.\n> \n> \n"
          },
          "metadata": {}
        },
        {
          "output_type": "stream",
          "name": "stdout",
          "text": [
            "xxxxxxxxxxxxxxxxxxxxxxxxxxxxxxxxxxxxxxxxxxxxxxxxxxxxxxxxxxxxxxxxxxxx\n",
            "\n",
            "pesquisando sobre: ia\n",
            "Preparando sua aula sobre: ia\n",
            "\n",
            " Resultados do Agente Professor:\n",
            "\n"
          ]
        },
        {
          "output_type": "display_data",
          "data": {
            "text/plain": [
              "<IPython.core.display.Markdown object>"
            ],
            "text/markdown": "> Olá, Cafe! Que legal ter você aqui para mais uma aula superinteressante! 😄 Hoje, vamos explorar um mundo mágico chamado Inteligência Artificial, ou IA! 🤖✨\n> \n> Sabe, Cafe, a IA é como ter um amigo muito esperto que mora dentro dos computadores e máquinas, e que está sempre aprendendo coisas novas! Ele pode te ajudar em muitas tarefas e até criar coisas incríveis! 🤩\n> \n> Para começarmos nossa aventura, vou te contar um segredo: a IA já faz parte do seu dia a dia! Quer ver só?\n> \n> \n> *   Quando você pede para a Alexa tocar sua música favorita, é a IA que entende o que você falou e escolhe a música certa.\n> *   Sabe os jogos no celular ou tablet que parecem \"aprender\" como você joga? É a IA tentando tornar o jogo mais divertido e desafiador para você.\n> *   E quando você usa um aplicativo que transforma seu rosto em um personagem engraçado? Isso também é IA em ação! 😄\n> \n> A IA está presente em diversas ferramentas e plataformas que personalizam o ensino de acordo com o ritmo e as dificuldades de cada criança.\n> \n> **Mas, como a IA faz tudo isso?** 🤔\n> \n> Imagine que a IA é como um detetive que observa muitos e muitos exemplos para aprender. Por exemplo, para reconhecer um gato em uma foto, a IA vê milhões de fotos de gatos diferentes até aprender a identificar as características que fazem um gato ser um gato: bigodes, orelhas pontudas, rabo peludo... 🐱\n> \n> Depois de aprender, a IA pode usar esse conhecimento para identificar gatos em fotos que ela nunca viu antes! Incrível, né? 🤩\n> \n> **E onde mais podemos encontrar a IA?** 😮\n> \n> A IA está sendo usada para criar robôs que ajudam as pessoas em casa, carros que dirigem sozinhos e até mesmo para ajudar os médicos a encontrarem curas para doenças! 😮\n> \n> **Que tal criarmos nossa própria IA?** 🤯\n> \n> Existem ferramentas online muito legais que permitem que você crie seus próprios projetos de IA! Você pode ensinar um computador a reconhecer objetos, criar jogos inteligentes e muito mais!\n> \n> **Mas, espere! A IA pode ser usada para o mal?** 😟\n> \n> Sim, Cafe, como toda ferramenta poderosa, a IA pode ser usada de forma irresponsável. Por isso, é importante que as pessoas que criam e usam a IA pensem sempre em como ela pode ajudar a todos e não prejudicar ninguém.\n> \n> **E como podemos garantir que a IA seja usada para o bem?** 🤔\n> \n> Precisamos aprender sobre IA, discutir seus impactos e criar regras para garantir que ela seja usada de forma ética e responsável. Assim, podemos aproveitar todos os benefícios que essa tecnologia incrível tem a oferecer! 😊\n> \n> Cafe, essa foi só uma pequena introdução ao mundo da IA! Espero que você tenha se divertido e aprendido muito! 😄\n> \n> E lembre-se: o futuro da IA está em nossas mãos! 😉\n"
          },
          "metadata": {}
        },
        {
          "output_type": "stream",
          "name": "stdout",
          "text": [
            "xxxxxxxxxxxxxxxxxxxxxxxxxxxxxxxxxxxxxxxxxxxxxxxxxxxxxxxxxxxxxxxxxxxx\n",
            "\n",
            "\n",
            "Espero que este relatório detalhado ajude você a otimizar seus estudos e aprendizado! 😊\n"
          ]
        }
      ]
    }
  ]
}